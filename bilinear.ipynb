{
 "cells": [
  {
   "cell_type": "code",
   "execution_count": 28,
   "id": "83a6a464",
   "metadata": {},
   "outputs": [],
   "source": [
    "import rasterio\n",
    "from rasterio.enums import Resampling\n",
    "from rasterio.warp import reproject, Resampling\n",
    "import numpy as np"
   ]
  },
  {
   "cell_type": "code",
   "execution_count": 39,
   "id": "dd0287d8",
   "metadata": {},
   "outputs": [],
   "source": [
    "# Example usage:\n",
    "input_raster_path = 'out_raster/classify_green.tif'\n",
    "output_raster_path = 'out_raster/classify_green_resample_cubic_10.tif'\n",
    "target_resolution = 10  # Set the desired target resolution\n",
    "\n",
    "with rasterio.open(input_raster_path) as src:\n",
    "        # Read the raster data\n",
    "    raster_data = src.read(1)\n",
    "\n",
    "        # Get the metadata of the input raster\n",
    "    meta = src.meta.copy()\n",
    "\n",
    "    # Calculate the new dimensions based on the target resolution\n",
    "    new_height = int(src.height * src.res[0] / target_resolution)\n",
    "    new_width = int(src.width * src.res[1] / target_resolution)\n",
    "\n",
    "        # Perform spatial interpolation using bilinear resampling\n",
    "    interpolated_data = np.empty((new_height, new_width), dtype=raster_data.dtype)\n",
    "    rasterio.warp.reproject(\n",
    "            source=raster_data,\n",
    "            destination=interpolated_data,\n",
    "            src_transform=src.transform,\n",
    "            src_crs=src.crs,\n",
    "            dst_transform=src.transform * src.transform.scale(\n",
    "                (src.width / new_width), (src.height / new_height)\n",
    "            ),\n",
    "            dst_crs=src.crs,\n",
    "            resampling=Resampling.bilinear\n",
    "    )\n",
    "\n",
    "        # Update metadata with new dimensions and resolution\n",
    "    meta.update({\n",
    "            'width': new_width,\n",
    "            'height': new_height,\n",
    "            'transform': src.transform * src.transform.scale(\n",
    "                (src.width / new_width), (src.height / new_height)\n",
    "            ),\n",
    "            'res': (target_resolution, target_resolution)\n",
    "        })\n",
    "\n"
   ]
  },
  {
   "cell_type": "code",
   "execution_count": 40,
   "id": "a635fcbb",
   "metadata": {},
   "outputs": [],
   "source": [
    "        # Write the interpolated raster to the output file\n",
    "with rasterio.open(output_raster_path, 'w', **meta) as dst:\n",
    "    dst.write(interpolated_data, 1)"
   ]
  },
  {
   "cell_type": "code",
   "execution_count": null,
   "id": "ca12c9f4",
   "metadata": {},
   "outputs": [],
   "source": []
  },
  {
   "cell_type": "code",
   "execution_count": null,
   "id": "68eb2966",
   "metadata": {},
   "outputs": [],
   "source": []
  },
  {
   "cell_type": "code",
   "execution_count": null,
   "id": "f653c429",
   "metadata": {},
   "outputs": [],
   "source": []
  },
  {
   "cell_type": "code",
   "execution_count": null,
   "id": "6f9af4f9",
   "metadata": {},
   "outputs": [],
   "source": []
  },
  {
   "cell_type": "code",
   "execution_count": null,
   "id": "60e43fdb",
   "metadata": {},
   "outputs": [],
   "source": []
  },
  {
   "cell_type": "code",
   "execution_count": null,
   "id": "be9e76a7",
   "metadata": {},
   "outputs": [],
   "source": []
  },
  {
   "cell_type": "code",
   "execution_count": null,
   "id": "f90edbce",
   "metadata": {},
   "outputs": [],
   "source": []
  },
  {
   "cell_type": "code",
   "execution_count": null,
   "id": "d6c48a15",
   "metadata": {},
   "outputs": [],
   "source": []
  },
  {
   "cell_type": "code",
   "execution_count": null,
   "id": "418ec0fe",
   "metadata": {},
   "outputs": [],
   "source": []
  },
  {
   "cell_type": "code",
   "execution_count": null,
   "id": "afc87077",
   "metadata": {},
   "outputs": [],
   "source": []
  },
  {
   "cell_type": "code",
   "execution_count": null,
   "id": "88904334",
   "metadata": {},
   "outputs": [],
   "source": []
  }
 ],
 "metadata": {
  "kernelspec": {
   "display_name": "raster",
   "language": "python",
   "name": "raster"
  },
  "language_info": {
   "codemirror_mode": {
    "name": "ipython",
    "version": 3
   },
   "file_extension": ".py",
   "mimetype": "text/x-python",
   "name": "python",
   "nbconvert_exporter": "python",
   "pygments_lexer": "ipython3",
   "version": "3.9.18"
  }
 },
 "nbformat": 4,
 "nbformat_minor": 5
}
