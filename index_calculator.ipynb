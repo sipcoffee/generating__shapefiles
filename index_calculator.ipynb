{
 "cells": [
  {
   "cell_type": "code",
   "execution_count": 1,
   "id": "a684c497",
   "metadata": {},
   "outputs": [],
   "source": [
    "import numpy as np\n",
    "import rasterio\n",
    "import matplotlib.pyplot as plt\n",
    "from pyproj import CRS, Transformer\n",
    "from rasterio.warp import reproject, Resampling, CRS\n",
    "import pyproj"
   ]
  },
  {
   "cell_type": "code",
   "execution_count": 36,
   "id": "ab3a38c4",
   "metadata": {},
   "outputs": [],
   "source": [
    "#LOAD RASTER DATA\n",
    "#from rasterio import features\n",
    "with rasterio.open('src_raster/prev_data_cropped.tif') as data_prev:\n",
    "    rband_prev = data_prev.read(1).astype(np.float32)\n",
    "    gband_prev = data_prev.read(2).astype(np.float32)\n",
    "    bband_prev = data_prev.read(3).astype(np.float32)\n",
    "    meta_prev = data_prev.meta\n",
    "    meta_prev['nodata'] = None\n",
    "    \n",
    "with rasterio.open('src_raster/yellow.tif') as data_yellow:\n",
    "    rband_yellow = data_yellow.read(1).astype(np.float32)\n",
    "    gband_yellow = data_yellow.read(2).astype(np.float32)\n",
    "    bband_yellow = data_yellow.read(3).astype(np.float32)\n",
    "    meta_yellow = data_yellow.meta\n",
    "    \n",
    "with rasterio.open('src_raster/green.tif') as data_green:\n",
    "    rband_green = data_green.read(1).astype(np.float32)\n",
    "    gband_green = data_green.read(2).astype(np.float32)\n",
    "    bband_green = data_green.read(3).astype(np.float32)\n",
    "    meta_green = data_green.meta"
   ]
  },
  {
   "cell_type": "code",
   "execution_count": 37,
   "id": "e4ede989",
   "metadata": {},
   "outputs": [
    {
     "data": {
      "text/plain": [
       "{'driver': 'GTiff',\n",
       " 'dtype': 'uint8',\n",
       " 'nodata': None,\n",
       " 'width': 11455,\n",
       " 'height': 11913,\n",
       " 'count': 4,\n",
       " 'crs': CRS.from_epsg(32651),\n",
       " 'transform': Affine(0.01127351374945281, 0.0, 811453.1567,\n",
       "        0.0, -0.01127351632670164, 816606.4989)}"
      ]
     },
     "execution_count": 37,
     "metadata": {},
     "output_type": "execute_result"
    }
   ],
   "source": [
    "meta_prev"
   ]
  },
  {
   "cell_type": "code",
   "execution_count": 5,
   "id": "7248ccaa",
   "metadata": {},
   "outputs": [],
   "source": [
    "nodata = -9999"
   ]
  },
  {
   "cell_type": "code",
   "execution_count": 46,
   "id": "941b2799",
   "metadata": {},
   "outputs": [],
   "source": [
    "#VARI on PREV DATA\n",
    "den_prev = gband_prev + rband_prev - bband_prev\n",
    "den_prev = np.where(np.isclose(den_prev, 0), 1e-1, den_prev)  # Avoid division by nearly zero\n",
    "vari_prev = (gband_prev - rband_prev) / den_prev\n",
    "# Replace NaN values with nodata\n",
    "vari_prev[np.isnan(vari_prev)] = meta_prev['nodata']\n",
    "vari_prev[vari_prev==0] = meta_prev['nodata']\n",
    "vari_prev = np.clip(vari_prev, -1, 1)"
   ]
  },
  {
   "cell_type": "code",
   "execution_count": 47,
   "id": "0b39ae38",
   "metadata": {},
   "outputs": [],
   "source": [
    "#VARI on YELLOW DATA\n",
    "den_yellow = gband_yellow + rband_yellow - bband_yellow\n",
    "den_yellow = np.where(np.isclose(den_yellow, 0), 1e-1, den_yellow)  # Avoid division by nearly zero\n",
    "vari_yellow = (gband_yellow - rband_yellow) / den_yellow\n",
    "# Replace NaN values with nodata\n",
    "vari_yellow[np.isnan(vari_yellow)] = meta_yellow['nodata']\n",
    "vari_yellow[vari_yellow==0] = meta_yellow['nodata']\n",
    "vari_yellow = np.clip(vari_yellow, -1, 1)"
   ]
  },
  {
   "cell_type": "code",
   "execution_count": 48,
   "id": "446c888f",
   "metadata": {},
   "outputs": [],
   "source": [
    "#VARI on GREEN DATA\n",
    "den_green = gband_green + rband_green - bband_green\n",
    "den_green = np.where(np.isclose(den_green, 0), 1e-1, den_green)  # Avoid division by nearly zero\n",
    "vari_green = (gband_green - rband_green) / den_green\n",
    "# Replace NaN values with nodata\n",
    "vari_green[np.isnan(vari_green)] = meta_green['nodata']\n",
    "vari_green[vari_green==0] = meta_green['nodata']\n",
    "vari_green = np.clip(vari_green, -1, 1)"
   ]
  },
  {
   "cell_type": "code",
   "execution_count": null,
   "id": "b38ee702",
   "metadata": {},
   "outputs": [],
   "source": [
    "#GLI\n",
    "gli_denominator = 2 * green_band + red_band + blue_band\n",
    "gli_denominator = np.where(np.isclose(gli_denominator, 0), 1e-1, gli_denominator)\n",
    "gli = (2* green_band - red_band - blue_band)/ gli_denominator\n",
    "\n",
    "# Replace NaN values with nodata\n",
    "gli[np.isnan(gli)] = nodata\n",
    "gli[gli== 0] = nodata\n",
    "\n",
    "gli = np.clip(gli, -1, 1)"
   ]
  },
  {
   "cell_type": "code",
   "execution_count": 54,
   "id": "ccfd66b1",
   "metadata": {},
   "outputs": [],
   "source": [
    "#ExG\n",
    "exg_prev = 2 * gband_prev - rband_prev - bband_prev\n",
    "exg_prev[np.isnan(exg_prev)] = meta_prev['nodata']\n",
    "exg_prev[exg_prev==0] = -9999\n",
    "\n",
    "exg_yellow  = 2 * gband_yellow - rband_yellow - bband_yellow\n",
    "exg_yellow[np.isnan(exg_yellow)] =  meta_yellow['nodata']\n",
    "exg_yellow[exg_yellow==0] = meta_yellow['nodata']\n",
    "\n",
    "exg_green =  2 * gband_green - rband_green - bband_green\n",
    "exg_green[np.isnan(exg_green)] =  meta_green['nodata']\n",
    "exg_green[exg_green==0] = meta_green['nodata']"
   ]
  },
  {
   "cell_type": "code",
   "execution_count": 59,
   "id": "d4fbef09",
   "metadata": {},
   "outputs": [
    {
     "data": {
      "text/plain": [
       "235.0"
      ]
     },
     "execution_count": 59,
     "metadata": {},
     "output_type": "execute_result"
    }
   ],
   "source": [
    "np.max(exg_prev)"
   ]
  },
  {
   "cell_type": "code",
   "execution_count": 56,
   "id": "952762e0",
   "metadata": {
    "scrolled": true
   },
   "outputs": [
    {
     "data": {
      "text/plain": [
       "(array([6.000000e+00, 1.100000e+01, 9.000000e+00, 1.000000e+01,\n",
       "        7.000000e+00, 7.000000e+00, 1.200000e+01, 6.000000e+00,\n",
       "        1.200000e+01, 1.600000e+01, 1.800000e+01, 2.000000e+01,\n",
       "        2.300000e+01, 3.900000e+01, 3.100000e+01, 4.300000e+01,\n",
       "        4.900000e+01, 8.200000e+01, 7.000000e+01, 7.700000e+01,\n",
       "        9.600000e+01, 9.800000e+01, 1.190000e+02, 1.530000e+02,\n",
       "        2.050000e+02, 2.170000e+02, 3.980000e+02, 4.350000e+02,\n",
       "        7.780000e+02, 1.687000e+03, 3.459000e+03, 7.127000e+03,\n",
       "        1.297500e+04, 3.705900e+04, 7.086800e+04, 1.579670e+05,\n",
       "        3.460030e+05, 6.338090e+05, 1.170791e+06, 2.039898e+06,\n",
       "        3.599005e+06, 2.972098e+06, 3.924612e+06, 3.493482e+06,\n",
       "        2.853630e+06, 2.369787e+06, 2.878112e+06, 2.293894e+06,\n",
       "        2.471891e+06, 2.697454e+06, 3.133388e+06, 3.736267e+06,\n",
       "        4.464357e+06, 7.018166e+06, 6.628537e+06, 7.592847e+06,\n",
       "        7.555533e+06, 7.728823e+06, 7.189407e+06, 6.350378e+06,\n",
       "        6.933054e+06, 4.299682e+06, 3.516275e+06, 2.714059e+06,\n",
       "        2.053403e+06, 1.594526e+06, 1.385424e+06, 7.908700e+05,\n",
       "        5.628290e+05, 4.117610e+05, 3.130740e+05, 2.247620e+05,\n",
       "        1.723860e+05, 1.524860e+05, 9.138600e+04, 6.933800e+04,\n",
       "        5.303800e+04, 4.175400e+04, 2.931300e+04, 2.227700e+04,\n",
       "        1.951000e+04, 1.095300e+04, 7.612000e+03, 5.162000e+03,\n",
       "        3.604000e+03, 2.582000e+03, 2.298000e+03, 1.193000e+03,\n",
       "        9.740000e+02, 8.610000e+02, 4.690000e+02, 3.390000e+02,\n",
       "        3.420000e+02, 3.630000e+02, 9.600000e+01, 5.100000e+01,\n",
       "        3.300000e+01, 1.800000e+01, 4.000000e+00, 1.000000e+00]),\n",
       " array([-172.        , -167.8500061 , -163.69999695, -159.55000305,\n",
       "        -155.3999939 , -151.25      , -147.1000061 , -142.94999695,\n",
       "        -138.80000305, -134.6499939 , -130.5       , -126.34999847,\n",
       "        -122.19999695, -118.05000305, -113.90000153, -109.75      ,\n",
       "        -105.59999847, -101.44999695,  -97.30000305,  -93.15000153,\n",
       "         -89.        ,  -84.84999847,  -80.69999695,  -76.55000305,\n",
       "         -72.40000153,  -68.25      ,  -64.09999847,  -59.95000076,\n",
       "         -55.79999924,  -51.65000153,  -47.5       ,  -43.34999847,\n",
       "         -39.20000076,  -35.04999924,  -30.89999962,  -26.75      ,\n",
       "         -22.60000038,  -18.45000076,  -14.30000019,  -10.14999962,\n",
       "          -6.        ,   -1.85000002,    2.29999995,    6.44999981,\n",
       "          10.60000038,   14.75      ,   18.89999962,   23.04999924,\n",
       "          27.20000076,   31.35000038,   35.5       ,   39.65000153,\n",
       "          43.79999924,   47.95000076,   52.09999847,   56.25      ,\n",
       "          60.40000153,   64.55000305,   68.69999695,   72.84999847,\n",
       "          77.        ,   81.15000153,   85.30000305,   89.44999695,\n",
       "          93.59999847,   97.75      ,  101.90000153,  106.05000305,\n",
       "         110.19999695,  114.34999847,  118.5       ,  122.65000153,\n",
       "         126.80000305,  130.94999695,  135.1000061 ,  139.25      ,\n",
       "         143.3999939 ,  147.55000305,  151.69999695,  155.8500061 ,\n",
       "         160.        ,  164.1499939 ,  168.30000305,  172.44999695,\n",
       "         176.6000061 ,  180.75      ,  184.8999939 ,  189.05000305,\n",
       "         193.19999695,  197.3500061 ,  201.5       ,  205.6499939 ,\n",
       "         209.80000305,  213.94999695,  218.1000061 ,  222.25      ,\n",
       "         226.3999939 ,  230.55000305,  234.69999695,  238.8500061 ,\n",
       "         243.        ]),\n",
       " <BarContainer object of 100 artists>)"
      ]
     },
     "execution_count": 56,
     "metadata": {},
     "output_type": "execute_result"
    },
    {
     "data": {
      "image/png": "[encoded data removed]",
      "text/plain": [
       "<Figure size 1200x400 with 3 Axes>"
      ]
     },
     "metadata": {},
     "output_type": "display_data"
    }
   ],
   "source": [
    "fig, (a1, a2, a3) = plt.subplots(1,3, figsize=(12,4))\n",
    "a1.hist(exg_prev.flatten(), bins=100)\n",
    "a2.hist(exg_yellow.flatten(), bins=100 )\n",
    "a3.hist(exg_green.flatten(), bins=100)"
   ]
  },
  {
   "cell_type": "code",
   "execution_count": null,
   "id": "501ac629",
   "metadata": {},
   "outputs": [],
   "source": [
    "# data prev\n",
    "new_tiff_profile = data_prev.profile  # Copy the profile from the original dataset\n",
    "new_tiff_profile.update(\n",
    "            dtype=rasterio.float32,  # Update the data type to match the VARI data\n",
    "                        count=1,  # Only one band for VARI\n",
    "                        compress='lzw',  # You can choose a compression method if needed\n",
    "                        tiled=False,\n",
    "                        blockysize=1,\n",
    "                        nodata=-9999.9\n",
    ")\n",
    "new_crs = pyproj.CRS.from_epsg(32651)\n",
    "new_tiff_profile.update(crs=new_crs)\n"
   ]
  },
  {
   "cell_type": "code",
   "execution_count": 49,
   "id": "b066d9f3",
   "metadata": {},
   "outputs": [
    {
     "data": {
      "text/plain": [
       "Text(0.5, 0, 'Min: nan - Mean:nan - Max:nan')"
      ]
     },
     "execution_count": 49,
     "metadata": {},
     "output_type": "execute_result"
    },
    {
     "data": {
      "image/png": "[encoded data removed]",
      "text/plain": [
       "<Figure size 1200x400 with 3 Axes>"
      ]
     },
     "metadata": {},
     "output_type": "display_data"
    }
   ],
   "source": [
    "fig, (a1, a2, a3) = plt.subplots(1,3, figsize=(12,4))\n",
    "a1.hist(vari_prev.flatten(), bins=100, range=(-0.5,1))\n",
    "a1.set_title('Previous Dataset')\n",
    "a1.set_xlabel(f'Min: {np.min(vari_prev):.2f} - Mean:{np.mean(vari_prev):.2f} - Max:{np.max(vari_prev):.2f}')\n",
    "\n",
    "a2.hist(vari_green.flatten(), bins=100,range=(-0.5,1))\n",
    "a2.set_title('Green Farm')\n",
    "a2.set_xlabel(f'Min: {np.min(vari_green):.2f} - Mean:{np.mean(vari_green):.2f} - Max:{np.max(vari_green):.2f}')\n",
    "\n",
    "a3.hist(vari_yellow.flatten(), bins=100,range=(-0.5,1))\n",
    "a3.set_title('Yellow Farm')\n",
    "a3.set_xlabel(f'Min: {np.min(vari_yellow):.2f} - Mean:{np.mean(vari_yellow):.2f} - Max:{np.max(vari_yellow):.2f}')"
   ]
  },
  {
   "cell_type": "code",
   "execution_count": null,
   "id": "6bad420f",
   "metadata": {
    "scrolled": true
   },
   "outputs": [],
   "source": [
    "print('VARI Min:' ,np.min(vari))\n",
    "print('VARI Mean:' ,np.mean(vari))\n",
    "print('VARI Max:' ,np.max(vari))\n",
    "print('GLI Min:' ,np.min(gli))\n",
    "print('GLI Mean:' ,np.mean(gli))\n",
    "print('GLI Max:' ,np.max(gli))"
   ]
  },
  {
   "cell_type": "code",
   "execution_count": null,
   "id": "3064b7d8",
   "metadata": {
    "scrolled": true
   },
   "outputs": [],
   "source": [
    "fig, (a1, a2) = plt.subplots(1,2)\n",
    "a1.hist(vari.flatten(), bins=100, range=(-0.5,1))\n",
    "\n",
    "a2.hist(gli.flatten(), bins=100,range=(-0.5,1))"
   ]
  },
  {
   "cell_type": "code",
   "execution_count": null,
   "id": "277c4146",
   "metadata": {},
   "outputs": [],
   "source": [
    "fig, (a1, a2, a3) = plt.subplots(1,3, figsize=(12,4))\n",
    "a1.imshow(vari_prev, cmap='YlOrRd')\n",
    "a2.imshow(vari_green, cmap='YlOrRd')\n",
    "a3.imshow(vari_yellow, cmap='YlOrRd')"
   ]
  },
  {
   "cell_type": "code",
   "execution_count": null,
   "id": "b00f0f22",
   "metadata": {},
   "outputs": [],
   "source": [
    "#export data to file\n",
    "with rasterio.open('index/exg_yellow.tif', 'w', **new_tiff_profile) as new_tiff:\n",
    "                            new_tiff.write(exg_yellow, 1)"
   ]
  },
  {
   "cell_type": "code",
   "execution_count": null,
   "id": "9dc3deef",
   "metadata": {},
   "outputs": [],
   "source": []
  },
  {
   "cell_type": "code",
   "execution_count": null,
   "id": "7dcdd0b8",
   "metadata": {},
   "outputs": [],
   "source": [
    "#EXG"
   ]
  },
  {
   "cell_type": "code",
   "execution_count": null,
   "id": "20a5edc9",
   "metadata": {},
   "outputs": [],
   "source": []
  },
  {
   "cell_type": "code",
   "execution_count": null,
   "id": "81c4977b",
   "metadata": {},
   "outputs": [],
   "source": []
  },
  {
   "cell_type": "code",
   "execution_count": null,
   "id": "dd237d30",
   "metadata": {},
   "outputs": [],
   "source": []
  },
  {
   "cell_type": "code",
   "execution_count": null,
   "id": "d88be604",
   "metadata": {},
   "outputs": [],
   "source": []
  },
  {
   "cell_type": "code",
   "execution_count": null,
   "id": "cb7f4736",
   "metadata": {},
   "outputs": [],
   "source": []
  },
  {
   "cell_type": "code",
   "execution_count": null,
   "id": "41255afb",
   "metadata": {},
   "outputs": [],
   "source": []
  },
  {
   "cell_type": "code",
   "execution_count": null,
   "id": "2cd3a722",
   "metadata": {},
   "outputs": [],
   "source": []
  },
  {
   "cell_type": "code",
   "execution_count": null,
   "id": "3b4d6ddf",
   "metadata": {},
   "outputs": [],
   "source": []
  },
  {
   "cell_type": "code",
   "execution_count": null,
   "id": "8fd6bb52",
   "metadata": {},
   "outputs": [],
   "source": []
  }
 ],
 "metadata": {
  "kernelspec": {
   "display_name": "class",
   "language": "python",
   "name": "class"
  },
  "language_info": {
   "codemirror_mode": {
    "name": "ipython",
    "version": 3
   },
   "file_extension": ".py",
   "mimetype": "text/x-python",
   "name": "python",
   "nbconvert_exporter": "python",
   "pygments_lexer": "ipython3",
   "version": "3.9.18"
  }
 },
 "nbformat": 4,
 "nbformat_minor": 5
}
